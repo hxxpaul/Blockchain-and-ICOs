{
 "cells": [
  {
   "cell_type": "code",
   "execution_count": 1,
   "metadata": {},
   "outputs": [
    {
     "name": "stderr",
     "output_type": "stream",
     "text": [
      "C:\\Anaconda3\\lib\\site-packages\\nltk\\twitter\\__init__.py:20: UserWarning: The twython library has not been installed. Some functionality from the twitter package will not be available.\n",
      "  warnings.warn(\"The twython library has not been installed. \"\n"
     ]
    }
   ],
   "source": [
    "from IPython.core.interactiveshell import InteractiveShell\n",
    "InteractiveShell.ast_node_interactivity = \"all\"\n",
    "import pandas as pd\n",
    "import numpy as np\n",
    "from nltk.sentiment.vader import SentimentIntensityAnalyzer"
   ]
  },
  {
   "cell_type": "code",
   "execution_count": 2,
   "metadata": {},
   "outputs": [
    {
     "data": {
      "text/html": [
       "<div>\n",
       "<style scoped>\n",
       "    .dataframe tbody tr th:only-of-type {\n",
       "        vertical-align: middle;\n",
       "    }\n",
       "\n",
       "    .dataframe tbody tr th {\n",
       "        vertical-align: top;\n",
       "    }\n",
       "\n",
       "    .dataframe thead th {\n",
       "        text-align: right;\n",
       "    }\n",
       "</style>\n",
       "<table border=\"1\" class=\"dataframe\">\n",
       "  <thead>\n",
       "    <tr style=\"text-align: right;\">\n",
       "      <th></th>\n",
       "      <th>ICO_name</th>\n",
       "      <th>date</th>\n",
       "      <th>like</th>\n",
       "      <th>reply</th>\n",
       "      <th>retweet</th>\n",
       "      <th>text</th>\n",
       "      <th>user</th>\n",
       "    </tr>\n",
       "  </thead>\n",
       "  <tbody>\n",
       "    <tr>\n",
       "      <th>0</th>\n",
       "      <td>XinFin</td>\n",
       "      <td>2017-07-11 12:57:34</td>\n",
       "      <td>NaN</td>\n",
       "      <td>NaN</td>\n",
       "      <td>NaN</td>\n",
       "      <td>Join Xinfin’s #Bitcoin Ecosystem &amp; Bridge the ...</td>\n",
       "      <td>bitcoinewsboard</td>\n",
       "    </tr>\n",
       "    <tr>\n",
       "      <th>1</th>\n",
       "      <td>XinFin</td>\n",
       "      <td>2017-06-15 08:31:21</td>\n",
       "      <td>NaN</td>\n",
       "      <td>NaN</td>\n",
       "      <td>NaN</td>\n",
       "      <td>Join Xinfin’s Bitcoin Ecosystem &amp; Bridge the G...</td>\n",
       "      <td>coinspectator</td>\n",
       "    </tr>\n",
       "    <tr>\n",
       "      <th>2</th>\n",
       "      <td>Cofound.it</td>\n",
       "      <td>2017-06-06 17:06:14</td>\n",
       "      <td>5.0</td>\n",
       "      <td>NaN</td>\n",
       "      <td>4.0</td>\n",
       "      <td>@cofound_it Succes ICO presale 96% collected  ...</td>\n",
       "      <td>CyrilGaab</td>\n",
       "    </tr>\n",
       "    <tr>\n",
       "      <th>3</th>\n",
       "      <td>Cofound.it</td>\n",
       "      <td>2017-06-06 01:51:45</td>\n",
       "      <td>3.0</td>\n",
       "      <td>NaN</td>\n",
       "      <td>3.0</td>\n",
       "      <td>News from  on  #blockchain : #Cofound.it Token...</td>\n",
       "      <td>blockchainers</td>\n",
       "    </tr>\n",
       "    <tr>\n",
       "      <th>4</th>\n",
       "      <td>Cofound.it</td>\n",
       "      <td>2017-06-05 10:55:38</td>\n",
       "      <td>NaN</td>\n",
       "      <td>NaN</td>\n",
       "      <td>NaN</td>\n",
       "      <td>Fresh #blockchain News: #Cofound.it Token Pre-...</td>\n",
       "      <td>blockchainers</td>\n",
       "    </tr>\n",
       "  </tbody>\n",
       "</table>\n",
       "</div>"
      ],
      "text/plain": [
       "     ICO_name                 date  like  reply  retweet  \\\n",
       "0      XinFin  2017-07-11 12:57:34   NaN    NaN      NaN   \n",
       "1      XinFin  2017-06-15 08:31:21   NaN    NaN      NaN   \n",
       "2  Cofound.it  2017-06-06 17:06:14   5.0    NaN      4.0   \n",
       "3  Cofound.it  2017-06-06 01:51:45   3.0    NaN      3.0   \n",
       "4  Cofound.it  2017-06-05 10:55:38   NaN    NaN      NaN   \n",
       "\n",
       "                                                text             user  \n",
       "0  Join Xinfin’s #Bitcoin Ecosystem & Bridge the ...  bitcoinewsboard  \n",
       "1  Join Xinfin’s Bitcoin Ecosystem & Bridge the G...    coinspectator  \n",
       "2  @cofound_it Succes ICO presale 96% collected  ...        CyrilGaab  \n",
       "3  News from  on  #blockchain : #Cofound.it Token...    blockchainers  \n",
       "4  Fresh #blockchain News: #Cofound.it Token Pre-...    blockchainers  "
      ]
     },
     "execution_count": 2,
     "metadata": {},
     "output_type": "execute_result"
    },
    {
     "data": {
      "text/html": [
       "<div>\n",
       "<style scoped>\n",
       "    .dataframe tbody tr th:only-of-type {\n",
       "        vertical-align: middle;\n",
       "    }\n",
       "\n",
       "    .dataframe tbody tr th {\n",
       "        vertical-align: top;\n",
       "    }\n",
       "\n",
       "    .dataframe thead th {\n",
       "        text-align: right;\n",
       "    }\n",
       "</style>\n",
       "<table border=\"1\" class=\"dataframe\">\n",
       "  <thead>\n",
       "    <tr style=\"text-align: right;\">\n",
       "      <th></th>\n",
       "      <th>ICO_name</th>\n",
       "      <th>date</th>\n",
       "      <th>like</th>\n",
       "      <th>reply</th>\n",
       "      <th>retweet</th>\n",
       "      <th>text</th>\n",
       "      <th>user</th>\n",
       "    </tr>\n",
       "  </thead>\n",
       "  <tbody>\n",
       "    <tr>\n",
       "      <th>0</th>\n",
       "      <td>Waves</td>\n",
       "      <td>2016-05-30 10:30:24</td>\n",
       "      <td>2.0</td>\n",
       "      <td>NaN</td>\n",
       "      <td>1.0</td>\n",
       "      <td>Currently Active #ICO #Crowdsales #waves #rise...</td>\n",
       "      <td>TheEtherFire</td>\n",
       "    </tr>\n",
       "    <tr>\n",
       "      <th>1</th>\n",
       "      <td>Waves</td>\n",
       "      <td>2016-05-29 13:23:04</td>\n",
       "      <td>7.0</td>\n",
       "      <td>NaN</td>\n",
       "      <td>7.0</td>\n",
       "      <td>$waves https://bitcointalk.org/index.php?topic...</td>\n",
       "      <td>Vindyne8</td>\n",
       "    </tr>\n",
       "    <tr>\n",
       "      <th>2</th>\n",
       "      <td>Waves</td>\n",
       "      <td>2016-05-29 09:19:03</td>\n",
       "      <td>NaN</td>\n",
       "      <td>NaN</td>\n",
       "      <td>NaN</td>\n",
       "      <td>Waves ico achieved 15K BTC !!!! So + 6 000 000...</td>\n",
       "      <td>samyrhf</td>\n",
       "    </tr>\n",
       "    <tr>\n",
       "      <th>3</th>\n",
       "      <td>Waves</td>\n",
       "      <td>2016-05-27 19:22:37</td>\n",
       "      <td>14.0</td>\n",
       "      <td>1.0</td>\n",
       "      <td>21.0</td>\n",
       "      <td>#Waves: 14K #BTC raised so far - Currently No4...</td>\n",
       "      <td>xbtmoney</td>\n",
       "    </tr>\n",
       "    <tr>\n",
       "      <th>4</th>\n",
       "      <td>Waves</td>\n",
       "      <td>2016-05-19 15:07:46</td>\n",
       "      <td>NaN</td>\n",
       "      <td>NaN</td>\n",
       "      <td>NaN</td>\n",
       "      <td>#waves #ICO https://twitter.com/wavesplatform/...</td>\n",
       "      <td>JellaBoem</td>\n",
       "    </tr>\n",
       "  </tbody>\n",
       "</table>\n",
       "</div>"
      ],
      "text/plain": [
       "  ICO_name                 date  like  reply  retweet  \\\n",
       "0    Waves  2016-05-30 10:30:24   2.0    NaN      1.0   \n",
       "1    Waves  2016-05-29 13:23:04   7.0    NaN      7.0   \n",
       "2    Waves  2016-05-29 09:19:03   NaN    NaN      NaN   \n",
       "3    Waves  2016-05-27 19:22:37  14.0    1.0     21.0   \n",
       "4    Waves  2016-05-19 15:07:46   NaN    NaN      NaN   \n",
       "\n",
       "                                                text          user  \n",
       "0  Currently Active #ICO #Crowdsales #waves #rise...  TheEtherFire  \n",
       "1  $waves https://bitcointalk.org/index.php?topic...      Vindyne8  \n",
       "2  Waves ico achieved 15K BTC !!!! So + 6 000 000...       samyrhf  \n",
       "3  #Waves: 14K #BTC raised so far - Currently No4...      xbtmoney  \n",
       "4  #waves #ICO https://twitter.com/wavesplatform/...     JellaBoem  "
      ]
     },
     "execution_count": 2,
     "metadata": {},
     "output_type": "execute_result"
    },
    {
     "data": {
      "text/plain": [
       "(32,)"
      ]
     },
     "execution_count": 2,
     "metadata": {},
     "output_type": "execute_result"
    },
    {
     "data": {
      "text/plain": [
       "Int64Index([  3101,   3102,   3103,   3748,   3786,   3816,   3817,   4881,\n",
       "              4929,   8068,  13004,  13005,  13007,  13008,  13009,  13010,\n",
       "             13152,  13153,  13155,  13156,  13157,  13158,  52830,  67309,\n",
       "             71513,  71681,  71682,  71716, 111069, 111070, 111242, 111243],\n",
       "           dtype='int64')"
      ]
     },
     "execution_count": 2,
     "metadata": {},
     "output_type": "execute_result"
    },
    {
     "data": {
      "text/plain": [
       "(72,)"
      ]
     },
     "execution_count": 2,
     "metadata": {},
     "output_type": "execute_result"
    },
    {
     "data": {
      "text/plain": [
       "Int64Index([  7326,   8521,  13082,  13259,  13260,  13261,  17425,  19614,\n",
       "             19618,  33564,  35965,  38557,  40202,  45173,  45180,  45182,\n",
       "             45184,  45190,  45192,  45194,  45196,  45206,  45208,  45210,\n",
       "             45212,  45214,  45231,  45233,  45235,  45237,  45239,  45250,\n",
       "             45252,  45254,  60422,  62595,  71546,  71547,  71548,  71549,\n",
       "             71566,  79325,  82910,  86921, 115188, 115235, 115236, 220455,\n",
       "            220456, 220780, 220844, 220952, 263725, 263726, 278873, 278874,\n",
       "            285240, 285241, 289976, 290603, 312798, 312799, 322383, 322384,\n",
       "            322392, 322393, 323024, 323027, 346170, 346171, 357287, 357288],\n",
       "           dtype='int64')"
      ]
     },
     "execution_count": 2,
     "metadata": {},
     "output_type": "execute_result"
    }
   ],
   "source": [
    "# load data\n",
    "df_pre = pd.read_csv('tweets_pre.csv')\n",
    "df_sale = pd.read_csv('tweets_sale.csv', engine = 'python')\n",
    "df_pre.head()\n",
    "df_sale.head()\n",
    "\n",
    "# check if empty text exists\n",
    "df_pre.text[df_pre.text.isna() == True].shape\n",
    "df_pre.text[df_pre.text.isna() == True].index\n",
    "df_sale.text[df_sale.text.isna() == True].shape\n",
    "df_sale.text[df_sale.text.isna() == True].index\n",
    "\n",
    "# drop rows with empty text\n",
    "df_pre = df_pre.dropna(subset = ['text'])\n",
    "df_sale = df_sale.dropna(subset = ['text'])"
   ]
  },
  {
   "cell_type": "code",
   "execution_count": 3,
   "metadata": {},
   "outputs": [],
   "source": [
    "# Use Vader method to get sentiment_score\n",
    "# it's a compound score, the sum of all of the lexicon ratings which have been standardized to range between -1 and 1\n",
    "sid = SentimentIntensityAnalyzer()\n",
    "\n",
    "## pre-sale stage\n",
    "sentiment_score = []\n",
    "for tweet in df_pre.text:\n",
    "        ss = sid.polarity_scores(tweet)\n",
    "        sentiment_score.append(ss['compound'])\n",
    "    \n",
    "    ## store new feature \"sentiment_score\" and update csv file\n",
    "df_pre = df_pre.assign(sentiment_score = sentiment_score)\n",
    "df_pre.to_csv('tweets_pre.csv', index = False, encoding = 'utf-8-sig')\n",
    "\n",
    "## sale stage\n",
    "sentiment_score = []\n",
    "for tweet in df_sale.text:\n",
    "    ss = sid.polarity_scores(tweet)\n",
    "    sentiment_score.append(ss['compound'])\n",
    "    \n",
    "    ## store new feature \"sentiment_score\" and update csv file\n",
    "df_sale = df_sale.assign(sentiment_score = sentiment_score)\n",
    "df_sale.to_csv('tweets_sale.csv', index = False, encoding = 'utf-8-sig')"
   ]
  }
 ],
 "metadata": {
  "kernelspec": {
   "display_name": "Python 3",
   "language": "python",
   "name": "python3"
  },
  "language_info": {
   "codemirror_mode": {
    "name": "ipython",
    "version": 3
   },
   "file_extension": ".py",
   "mimetype": "text/x-python",
   "name": "python",
   "nbconvert_exporter": "python",
   "pygments_lexer": "ipython3",
   "version": "3.6.5"
  }
 },
 "nbformat": 4,
 "nbformat_minor": 2
}
